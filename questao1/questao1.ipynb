{
  "nbformat": 4,
  "nbformat_minor": 0,
  "metadata": {
    "colab": {
      "provenance": []
    },
    "kernelspec": {
      "name": "python3",
      "display_name": "Python 3"
    },
    "language_info": {
      "name": "python"
    }
  },
  "cells": [
    {
      "cell_type": "code",
      "execution_count": null,
      "metadata": {
        "colab": {
          "base_uri": "https://localhost:8080/"
        },
        "id": "VDeVVZVNmdQJ",
        "outputId": "ceb55c79-2af6-4885-90e6-7d58a60873e1"
      },
      "outputs": [
        {
          "output_type": "stream",
          "name": "stdout",
          "text": [
            "Percentual de passageiros considerados outliers: 8.26%\n",
            "\n",
            "Perfil médio dos clusters (sem outliers):\n",
            "          NETPRO      Q20Age  Q21Gender  Q22Income    Q23FLY  Q5TIMESFLOWN  \\\n",
            "cluster                                                                      \n",
            "0         8.221429  4.246429        1.0   2.424107  1.910714      2.249107   \n",
            "1         8.408472  4.253404        2.0   2.025719  1.989410      2.204992   \n",
            "2        10.302521  0.033613        0.0   0.000000  0.000000      2.361345   \n",
            "3         8.250000  2.625000        2.0   0.062500  0.000000      1.312500   \n",
            "\n",
            "         Q6LONGUSE  \n",
            "cluster             \n",
            "0         2.559821  \n",
            "1         2.605144  \n",
            "2         2.386555  \n",
            "3         1.250000  \n",
            "\n",
            "Perfil médio dos outliers:\n",
            "NETPRO          6.254310\n",
            "Q20Age          4.047414\n",
            "Q21Gender       1.176724\n",
            "Q22Income       1.534483\n",
            "Q23FLY          1.439655\n",
            "Q5TIMESFLOWN    2.439655\n",
            "Q6LONGUSE       2.538793\n",
            "cluster        -1.000000\n",
            "dtype: float64\n",
            "\n",
            "Mapeamento de código de gênero:\n",
            "{0: 'Masculino', 1: 'Feminino', 2: 'Outro', 3: 'Prefiro não informar'}\n"
          ]
        }
      ],
      "source": [
        "import pandas as pd\n",
        "from sklearn.decomposition import PCA\n",
        "from sklearn.cluster import DBSCAN\n",
        "from sklearn.preprocessing import StandardScaler\n",
        "import matplotlib.pyplot as plt\n",
        "\n",
        "# Carregar os dados\n",
        "df = pd.read_excel('/content/dataset.xlsx', header=0)\n",
        "\n",
        "# Selecionar colunas (DEIXA 'NETPRO  ' PQ NO DATASET TA ASSIM)\n",
        "cols = ['NETPRO  ', 'Q20Age', 'Q21Gender', 'Q22Income', 'Q23FLY', 'Q5TIMESFLOWN', 'Q6LONGUSE']\n",
        "# Limpa valores nulos pra não influenciar (dropna)\n",
        "data = df[cols].dropna().copy()\n",
        "\n",
        "# Normalizar os dados\n",
        "scaler = StandardScaler()\n",
        "data_scaled = scaler.fit_transform(data)\n",
        "\n",
        "# Aplicar DBSCAN para detectar ruídos (cluster = -1)\n",
        "# Usamos DBSCAN ao invés de Kmeans porque não sabia definir a quantidade de clusters\n",
        "# configs (eps = distância um do outro para serem agrupados) (usamos 1.5)\n",
        "# configs (min_samples = 'número mínimo de linhas para formar um cluster') (usamos 10)\n",
        "dbscan = DBSCAN(eps=1.5, min_samples=10)\n",
        "labels = dbscan.fit_predict(data_scaled)\n",
        "\n",
        "# Adiciona o número do cluster à tabela\n",
        "data['cluster'] = labels\n",
        "\n",
        "# Calcular percentual de ruído (ruídos = -1)\n",
        "noise_pct = (labels == -1).sum() / len(labels) * 100\n",
        "print(f'Percentual de passageiros considerados outliers: {noise_pct:.2f}%')\n",
        "\n",
        "# Gerar perfil dos clusters (exceto ruído)\n",
        "cluster_profile = data[data['cluster'] != -1].groupby('cluster').mean()\n",
        "print(\"\\nPerfil médio dos clusters (sem outliers):\")\n",
        "print(cluster_profile)\n",
        "\n",
        "# Perfil dos outliers\n",
        "outlier_profile = data[data['cluster'] == -1].mean(numeric_only=True)\n",
        "print(\"\\nPerfil médio dos outliers:\")\n",
        "print(outlier_profile)\n",
        "\n",
        "# Exibir mapeamento de gênero\n",
        "print(\"\\nMapeamento de código de gênero:\")\n",
        "print(\"{0: 'Masculino', 1: 'Feminino', 2: 'Outro', 3: 'Prefiro não informar'}\")"
      ]
    },
    {
      "cell_type": "markdown",
      "source": [
        "a. Existe um grupo incomum de passageiros que não se enquadra no perfil típico de cliente do\n",
        "aeroporto?\n",
        "\n",
        "Sim, o modelo identificou 8.26% dos passageiros como outliers (ruídos) usando o algoritmo DBSCAN. Esses passageiros não se enquadram no perfil típico do aeroporto."
      ],
      "metadata": {
        "id": "Vxi2U-SNvMVQ"
      }
    },
    {
      "cell_type": "markdown",
      "source": [
        "Qual é o tamanho do cluster em percentagem aos passageiros do aeroporto e qual é o perfil\n",
        "do grupo?\n",
        "\n",
        "8,26% dos passageiros foram classificados como fora do padrão típico, ou seja, não pertencem a nenhum dos clusters principais identificados.\n",
        "\n",
        "Perfil médio desse grupo incomum:\n",
        "\n",
        "    Satisfação (NETPRO): 6,25 (significativamente mais baixa que os outros clusters, que variam de 8,2 a 10,3)\n",
        "\n",
        "    Idade (Q20Age): 4,05 (faixa etária média-alta)\n",
        "\n",
        "    Gênero (Q21Gender): 1,18 (predominância levemente maior de mulheres ou outros gêneros, dependendo da codificação original)\n",
        "\n",
        "    Renda (Q22Income): 1,53 (renda relativamente baixa)\n",
        "\n",
        "    Frequência de voo (Q23FLY): 1,44 (viajam pouco)\n",
        "\n",
        "    Experiência de voos (Q5TIMESFLOWN): 2,44 (experiência semelhante à média)\n",
        "\n",
        "    Tempo de uso do aeroporto (Q6LONGUSE): 2,54 (usuários com algum histórico, mas não longos frequentadores)"
      ],
      "metadata": {
        "id": "OEf2g1pRvWio"
      }
    }
  ]
}